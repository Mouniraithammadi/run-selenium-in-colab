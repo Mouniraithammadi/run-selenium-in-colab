{
  "nbformat": 4,
  "nbformat_minor": 0,
  "metadata": {
    "colab": {
      "provenance": []
    },
    "kernelspec": {
      "name": "python3",
      "display_name": "Python 3"
    },
    "language_info": {
      "name": "python"
    }
  },
  "cells": [
    {
      "cell_type": "code",
      "source": [
        "# run this to install selenium \n",
        "!pip install selenium \n",
        "!apt-get update\n",
        "!apt-get install -y wget curl unzip xvfb libxi6 libgconf-2-4\n",
        "\n",
        "# Download the latest stable version of ChromeDriver\n",
        "!wget https://chromedriver.storage.googleapis.com/93.0.4577.63/chromedriver_linux64.zip\n",
        "!unzip chromedriver_linux64.zip\n",
        "!chmod +x chromedriver\n",
        "\n",
        "# Download and install Chrome\n",
        "!wget https://dl.google.com/linux/direct/google-chrome-stable_current_amd64.deb\n",
        "!dpkg -i google-chrome-stable_current_amd64.deb\n",
        "!google-chrome-stable --version\n",
        "\n"
      ],
      "metadata": {
        "id": "XwYBE0hAFziq"
      },
      "execution_count": null,
      "outputs": []
    },
    {
      "cell_type": "code",
      "source": [
        "from selenium import webdriver\n",
        "# configure the driver to use headless Chrome\n",
        "options = webdriver.ChromeOptions()\n",
        "options = webdriver.ChromeOptions()\n",
        "options.add_argument('--headless')\n",
        "options.add_argument('--no-sandbox')\n",
        "options.add_argument('--disable-dev-shm-usage')\n",
        "chrome_path = '/usr/local/bin/chromedriver'\n",
        "driver = webdriver.Chrome(chrome_path, options=options)\n",
        "driver.get('https://www.google.com')\n",
        "# print the page title\n",
        "print(driver.title)\n",
        "\n",
        "# close the browser\n",
        "driver.quit()\n"
      ],
      "metadata": {
        "id": "RoHv8jsnF4aJ"
      },
      "execution_count": null,
      "outputs": []
    }
  ]
}
